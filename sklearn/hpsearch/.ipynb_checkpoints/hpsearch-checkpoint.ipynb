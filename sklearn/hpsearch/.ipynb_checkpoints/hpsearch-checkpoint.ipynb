{
 "cells": [
  {
   "cell_type": "code",
   "execution_count": 1,
   "metadata": {
    "collapsed": true
   },
   "outputs": [],
   "source": [
    "project_id = 'rising-sea-112358'\n",
    "zone = 'us-central1-b'\n",
    "cluster_id = 'my-cluster'\n",
    "bucket_name = 'hpsearch'\n",
    "source_dir = 'source'\n",
    "image_name = 'the-image'"
   ]
  },
  {
   "cell_type": "code",
   "execution_count": null,
   "metadata": {
    "collapsed": true
   },
   "outputs": [],
   "source": []
  },
  {
   "cell_type": "code",
   "execution_count": 2,
   "metadata": {},
   "outputs": [
    {
     "data": {
      "text/plain": [
       "{u'metadata': {u'@type': u'type.googleapis.com/google.devtools.cloudbuild.v1.BuildOperationMetadata',\n",
       "  u'build': {u'createTime': u'2017-09-28T21:24:12.171411710Z',\n",
       "   u'id': u'989405d5-589b-40ba-ac6d-a1ca61b96dbb',\n",
       "   u'images': [u'gcr.io/rising-sea-112358/the-image'],\n",
       "   u'logUrl': u'https://console.cloud.google.com/gcr/builds/989405d5-589b-40ba-ac6d-a1ca61b96dbb?project=rising-sea-112358',\n",
       "   u'logsBucket': u'gs://817831893817.cloudbuild-logs.googleusercontent.com',\n",
       "   u'projectId': u'rising-sea-112358',\n",
       "   u'source': {u'storageSource': {u'bucket': u'hpsearch',\n",
       "     u'object': u'source.zip'}},\n",
       "   u'sourceProvenance': {u'resolvedStorageSource': {u'bucket': u'hpsearch',\n",
       "     u'generation': u'1506633851354808',\n",
       "     u'object': u'source.zip'}},\n",
       "   u'status': u'QUEUED',\n",
       "   u'steps': [{u'args': [u'build',\n",
       "      u'-t',\n",
       "      u'gcr.io/rising-sea-112358/the-image',\n",
       "      u'.'],\n",
       "     u'name': u'gcr.io/cloud-builders/docker'}],\n",
       "   u'timeout': u'600s'}},\n",
       " u'name': u'operations/build/rising-sea-112358/OTg5NDA1ZDUtNTg5Yi00MGJhLWFjNmQtYTFjYTYxYjk2ZGJi'}"
      ]
     },
     "execution_count": 2,
     "metadata": {},
     "output_type": "execute_result"
    }
   ],
   "source": [
    "from cloudbuild_helper import build\n",
    "\n",
    "build(project_id, source_dir, bucket_name, image_name)"
   ]
  },
  {
   "cell_type": "code",
   "execution_count": null,
   "metadata": {
    "collapsed": true
   },
   "outputs": [],
   "source": []
  },
  {
   "cell_type": "code",
   "execution_count": 3,
   "metadata": {},
   "outputs": [
    {
     "data": {
      "text/plain": [
       "{u'name': u'operation-1506634097640-21d2910e',\n",
       " u'operationType': u'CREATE_CLUSTER',\n",
       " u'selfLink': u'https://container.googleapis.com/v1/projects/817831893817/zones/us-central1-b/operations/operation-1506634097640-21d2910e',\n",
       " u'startTime': u'2017-09-28T21:28:17.640530867Z',\n",
       " u'status': u'RUNNING',\n",
       " u'targetLink': u'https://container.googleapis.com/v1/projects/817831893817/zones/us-central1-b/clusters/my-cluster',\n",
       " u'zone': u'us-central1-b'}"
      ]
     },
     "execution_count": 3,
     "metadata": {},
     "output_type": "execute_result"
    }
   ],
   "source": [
    "from gke_helper import create_cluster\n",
    "\n",
    "create_cluster(project_id, zone, cluster_id, n_nodes=4, machine_type='n1-standard-4')"
   ]
  },
  {
   "cell_type": "code",
   "execution_count": null,
   "metadata": {
    "collapsed": true
   },
   "outputs": [],
   "source": []
  },
  {
   "cell_type": "code",
   "execution_count": null,
   "metadata": {
    "collapsed": true
   },
   "outputs": [],
   "source": []
  },
  {
   "cell_type": "code",
   "execution_count": 4,
   "metadata": {
    "collapsed": true
   },
   "outputs": [],
   "source": [
    "from sklearn.datasets import fetch_mldata\n",
    "from sklearn.utils import shuffle\n",
    "\n",
    "mnist = fetch_mldata('MNIST original', data_home='./mnist_data')\n",
    "X, y = shuffle(mnist.data[:60000], mnist.target[:60000])"
   ]
  },
  {
   "cell_type": "code",
   "execution_count": 5,
   "metadata": {
    "collapsed": true
   },
   "outputs": [],
   "source": [
    "X_small = X[:100]\n",
    "y_small = y[:100]"
   ]
  },
  {
   "cell_type": "code",
   "execution_count": 6,
   "metadata": {
    "collapsed": true
   },
   "outputs": [],
   "source": [
    "X_large = X[:6000]\n",
    "y_large = y[:6000]"
   ]
  },
  {
   "cell_type": "code",
   "execution_count": 7,
   "metadata": {
    "collapsed": true
   },
   "outputs": [],
   "source": [
    "from sklearn.ensemble import GradientBoostingClassifier\n",
    "from sklearn.model_selection import GridSearchCV\n",
    "\n"
   ]
  },
  {
   "cell_type": "code",
   "execution_count": null,
   "metadata": {
    "collapsed": true
   },
   "outputs": [],
   "source": []
  },
  {
   "cell_type": "code",
   "execution_count": 8,
   "metadata": {
    "collapsed": true
   },
   "outputs": [],
   "source": [
    "gbc = GradientBoostingClassifier()\n",
    "param_grid = {\n",
    "    'learning_rate': [0.1, 0.5, 1.0],\n",
    "    'n_estimators': [100, 50, 200, 300, 400],\n",
    "    'max_depth': [2, 3, 4, 5],\n",
    "    'subsample': [1.0, 0.9, 0.8]\n",
    "}\n",
    "search = GridSearchCV(estimator=gbc, param_grid=param_grid, n_jobs=-1, verbose=3)"
   ]
  },
  {
   "cell_type": "code",
   "execution_count": null,
   "metadata": {},
   "outputs": [],
   "source": [
    "%time search.fit(X_small, y_small)"
   ]
  },
  {
   "cell_type": "code",
   "execution_count": null,
   "metadata": {
    "collapsed": true
   },
   "outputs": [],
   "source": [
    "# TODO: experiment to find out how the running time scales with sample size"
   ]
  },
  {
   "cell_type": "code",
   "execution_count": null,
   "metadata": {},
   "outputs": [],
   "source": [
    "search.best_score_"
   ]
  },
  {
   "cell_type": "code",
   "execution_count": null,
   "metadata": {},
   "outputs": [],
   "source": [
    "search.best_params_"
   ]
  },
  {
   "cell_type": "code",
   "execution_count": null,
   "metadata": {
    "collapsed": true
   },
   "outputs": [],
   "source": []
  },
  {
   "cell_type": "code",
   "execution_count": 9,
   "metadata": {},
   "outputs": [],
   "source": [
    "from gke_parallel import GKEParallel"
   ]
  },
  {
   "cell_type": "code",
   "execution_count": 10,
   "metadata": {},
   "outputs": [],
   "source": [
    "gke_search = GKEParallel(search, project_id, zone, cluster_id, bucket_name, image_name, task_name='test-cluster.hpsearch.1506628901')"
   ]
  },
  {
   "cell_type": "code",
   "execution_count": 11,
   "metadata": {},
   "outputs": [
    {
     "name": "stdout",
     "output_type": "stream",
     "text": [
      "Fetching cluster endpoint and auth data.\n",
      "kubeconfig entry generated for my-cluster.\n",
      "Context \"gke_rising-sea-112358_us-central1-b_my-cluster\" modified.\n",
      "NAME                                        STATUS    AGE       VERSION\n",
      "gke-my-cluster-default-pool-4b61562f-bp81   Ready     1m        v1.7.5\n",
      "gke-my-cluster-default-pool-4b61562f-czqz   Ready     1m        v1.7.5\n",
      "gke-my-cluster-default-pool-4b61562f-d3wm   Ready     1m        v1.7.5\n",
      "gke-my-cluster-default-pool-4b61562f-khj6   Ready     1m        v1.7.5\n"
     ]
    }
   ],
   "source": [
    "! bash get_cluster_credentials.sh $cluster_id"
   ]
  },
  {
   "cell_type": "code",
   "execution_count": 12,
   "metadata": {},
   "outputs": [
    {
     "name": "stdout",
     "output_type": "stream",
     "text": [
      "Persised the GKEParallel instance: gs://hpsearch/my-cluster.the-image.1506634436/fitted_gke_search.pkl\n"
     ]
    }
   ],
   "source": [
    "gke_search.fit(X_large, y_large)"
   ]
  },
  {
   "cell_type": "code",
   "execution_count": 13,
   "metadata": {},
   "outputs": [
    {
     "data": {
      "text/plain": [
       "('my-cluster.the-image.1506634436', 4)"
      ]
     },
     "execution_count": 13,
     "metadata": {},
     "output_type": "execute_result"
    }
   ],
   "source": [
    "gke_search.task_name, gke_search.n_nodes"
   ]
  },
  {
   "cell_type": "code",
   "execution_count": 14,
   "metadata": {},
   "outputs": [
    {
     "data": {
      "text/plain": [
       "15"
      ]
     },
     "execution_count": 14,
     "metadata": {},
     "output_type": "execute_result"
    }
   ],
   "source": [
    "len(gke_search.job_names)"
   ]
  },
  {
   "cell_type": "code",
   "execution_count": null,
   "metadata": {},
   "outputs": [],
   "source": [
    "#gke_search.cancel()"
   ]
  },
  {
   "cell_type": "code",
   "execution_count": 16,
   "metadata": {},
   "outputs": [
    {
     "data": {
      "text/plain": [
       "{'0': {'learning_rate': [0.1, 0.5, 1.0],\n",
       "  'max_depth': [2, 3, 4, 5],\n",
       "  'n_estimators': [100],\n",
       "  'subsample': [1.0]},\n",
       " '1': {'learning_rate': [0.1, 0.5, 1.0],\n",
       "  'max_depth': [2, 3, 4, 5],\n",
       "  'n_estimators': [100],\n",
       "  'subsample': [0.9]},\n",
       " '10': {'learning_rate': [0.1, 0.5, 1.0],\n",
       "  'max_depth': [2, 3, 4, 5],\n",
       "  'n_estimators': [300],\n",
       "  'subsample': [0.9]},\n",
       " '11': {'learning_rate': [0.1, 0.5, 1.0],\n",
       "  'max_depth': [2, 3, 4, 5],\n",
       "  'n_estimators': [300],\n",
       "  'subsample': [0.8]},\n",
       " '12': {'learning_rate': [0.1, 0.5, 1.0],\n",
       "  'max_depth': [2, 3, 4, 5],\n",
       "  'n_estimators': [400],\n",
       "  'subsample': [1.0]},\n",
       " '13': {'learning_rate': [0.1, 0.5, 1.0],\n",
       "  'max_depth': [2, 3, 4, 5],\n",
       "  'n_estimators': [400],\n",
       "  'subsample': [0.9]},\n",
       " '14': {'learning_rate': [0.1, 0.5, 1.0],\n",
       "  'max_depth': [2, 3, 4, 5],\n",
       "  'n_estimators': [400],\n",
       "  'subsample': [0.8]},\n",
       " '2': {'learning_rate': [0.1, 0.5, 1.0],\n",
       "  'max_depth': [2, 3, 4, 5],\n",
       "  'n_estimators': [100],\n",
       "  'subsample': [0.8]},\n",
       " '3': {'learning_rate': [0.1, 0.5, 1.0],\n",
       "  'max_depth': [2, 3, 4, 5],\n",
       "  'n_estimators': [50],\n",
       "  'subsample': [1.0]},\n",
       " '4': {'learning_rate': [0.1, 0.5, 1.0],\n",
       "  'max_depth': [2, 3, 4, 5],\n",
       "  'n_estimators': [50],\n",
       "  'subsample': [0.9]},\n",
       " '5': {'learning_rate': [0.1, 0.5, 1.0],\n",
       "  'max_depth': [2, 3, 4, 5],\n",
       "  'n_estimators': [50],\n",
       "  'subsample': [0.8]},\n",
       " '6': {'learning_rate': [0.1, 0.5, 1.0],\n",
       "  'max_depth': [2, 3, 4, 5],\n",
       "  'n_estimators': [200],\n",
       "  'subsample': [1.0]},\n",
       " '7': {'learning_rate': [0.1, 0.5, 1.0],\n",
       "  'max_depth': [2, 3, 4, 5],\n",
       "  'n_estimators': [200],\n",
       "  'subsample': [0.9]},\n",
       " '8': {'learning_rate': [0.1, 0.5, 1.0],\n",
       "  'max_depth': [2, 3, 4, 5],\n",
       "  'n_estimators': [200],\n",
       "  'subsample': [0.8]},\n",
       " '9': {'learning_rate': [0.1, 0.5, 1.0],\n",
       "  'max_depth': [2, 3, 4, 5],\n",
       "  'n_estimators': [300],\n",
       "  'subsample': [1.0]}}"
      ]
     },
     "execution_count": 16,
     "metadata": {},
     "output_type": "execute_result"
    }
   ],
   "source": [
    "gke_search.param_grids"
   ]
  },
  {
   "cell_type": "code",
   "execution_count": 28,
   "metadata": {},
   "outputs": [
    {
     "data": {
      "text/plain": [
       "(True,\n",
       " {'0': True,\n",
       "  '1': True,\n",
       "  '10': True,\n",
       "  '11': True,\n",
       "  '12': True,\n",
       "  '13': True,\n",
       "  '14': True,\n",
       "  '2': True,\n",
       "  '3': True,\n",
       "  '4': True,\n",
       "  '5': True,\n",
       "  '6': True,\n",
       "  '7': True,\n",
       "  '8': True,\n",
       "  '9': True})"
      ]
     },
     "execution_count": 28,
     "metadata": {},
     "output_type": "execute_result"
    }
   ],
   "source": [
    "gke_search.done(), gke_search.dones"
   ]
  },
  {
   "cell_type": "code",
   "execution_count": null,
   "metadata": {
    "collapsed": true
   },
   "outputs": [],
   "source": []
  },
  {
   "cell_type": "code",
   "execution_count": 29,
   "metadata": {},
   "outputs": [
    {
     "name": "stdout",
     "output_type": "stream",
     "text": [
      "Persised the GKEParallel instance: gs://hpsearch/my-cluster.the-image.1506634436/fitted_gke_search.pkl\n"
     ]
    }
   ],
   "source": [
    "result = gke_search.result()"
   ]
  },
  {
   "cell_type": "code",
   "execution_count": 30,
   "metadata": {},
   "outputs": [
    {
     "data": {
      "text/plain": [
       "(0.93149999999999999,\n",
       " {'learning_rate': 0.1, 'max_depth': 4, 'n_estimators': 400, 'subsample': 0.8})"
      ]
     },
     "execution_count": 30,
     "metadata": {},
     "output_type": "execute_result"
    }
   ],
   "source": [
    "gke_search.best_score_, gke_search.best_params_"
   ]
  },
  {
   "cell_type": "code",
   "execution_count": 34,
   "metadata": {},
   "outputs": [
    {
     "name": "stdout",
     "output_type": "stream",
     "text": [
      "[ 3.  3.  3.  3.  3.]\n",
      "[ 3.  3.  3.  3.  3.]\n"
     ]
    }
   ],
   "source": [
    "# You can also call predict(), which deligates the call to the best_estimator_\n",
    "\n",
    "print(gke_search.best_estimator_.predict(mnist.data[64000:64005]))\n",
    "\n",
    "print(mnist.target[64000:64005])"
   ]
  },
  {
   "cell_type": "code",
   "execution_count": 35,
   "metadata": {
    "collapsed": true
   },
   "outputs": [],
   "source": [
    "test = gke_search.best_estimator_.predict(mnist.data[60000:])\n",
    "labels = mnist.target[60000:]\n",
    "len([i for i in xrange(len(test)) if test[i] == labels[i]])"
   ]
  },
  {
   "cell_type": "code",
   "execution_count": 36,
   "metadata": {},
   "outputs": [
    {
     "data": {
      "text/plain": [
       "9403"
      ]
     },
     "execution_count": 36,
     "metadata": {},
     "output_type": "execute_result"
    }
   ],
   "source": [
    "len([i for i in xrange(len(test)) if test[i] == labels[i]])"
   ]
  },
  {
   "cell_type": "code",
   "execution_count": 40,
   "metadata": {},
   "outputs": [
    {
     "data": {
      "text/plain": [
       "0.92300000000000004"
      ]
     },
     "execution_count": 40,
     "metadata": {},
     "output_type": "execute_result"
    }
   ],
   "source": [
    "result['0'].best_score_"
   ]
  },
  {
   "cell_type": "code",
   "execution_count": 42,
   "metadata": {},
   "outputs": [
    {
     "name": "stdout",
     "output_type": "stream",
     "text": [
      "CPU times: user 4min 18s, sys: 1.07 s, total: 4min 19s\n",
      "Wall time: 4min 20s\n"
     ]
    },
    {
     "data": {
      "text/plain": [
       "GradientBoostingClassifier(criterion='friedman_mse', init=None,\n",
       "              learning_rate=0.1, loss='deviance', max_depth=3,\n",
       "              max_features=None, max_leaf_nodes=None,\n",
       "              min_impurity_decrease=0.0, min_impurity_split=None,\n",
       "              min_samples_leaf=1, min_samples_split=2,\n",
       "              min_weight_fraction_leaf=0.0, n_estimators=100,\n",
       "              presort='auto', random_state=None, subsample=1.0, verbose=0,\n",
       "              warm_start=False)"
      ]
     },
     "execution_count": 42,
     "metadata": {},
     "output_type": "execute_result"
    }
   ],
   "source": [
    "gbc_ = GradientBoostingClassifier()\n",
    "\n",
    "%time gbc_.fit(X_large, y_large)"
   ]
  },
  {
   "cell_type": "code",
   "execution_count": 43,
   "metadata": {},
   "outputs": [
    {
     "data": {
      "text/plain": [
       "9216"
      ]
     },
     "execution_count": 43,
     "metadata": {},
     "output_type": "execute_result"
    }
   ],
   "source": [
    "test_ = gbc_.predict(mnist.data[60000:])\n",
    "labels = mnist.target[60000:]\n",
    "len([i for i in xrange(len(test)) if test_[i] == labels[i]])"
   ]
  },
  {
   "cell_type": "code",
   "execution_count": null,
   "metadata": {
    "collapsed": true
   },
   "outputs": [],
   "source": []
  }
 ],
 "metadata": {
  "kernelspec": {
   "display_name": "Python 2",
   "language": "python",
   "name": "python2"
  },
  "language_info": {
   "codemirror_mode": {
    "name": "ipython",
    "version": 2
   },
   "file_extension": ".py",
   "mimetype": "text/x-python",
   "name": "python",
   "nbconvert_exporter": "python",
   "pygments_lexer": "ipython2",
   "version": "2.7.13"
  }
 },
 "nbformat": 4,
 "nbformat_minor": 2
}
